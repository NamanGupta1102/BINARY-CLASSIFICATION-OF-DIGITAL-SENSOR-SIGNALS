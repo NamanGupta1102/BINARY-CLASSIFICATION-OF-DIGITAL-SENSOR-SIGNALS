{
 "cells": [
  {
   "cell_type": "code",
   "execution_count": 1,
   "id": "8f643233",
   "metadata": {},
   "outputs": [],
   "source": [
    "import numpy as np\n",
    "import matplotlib.pyplot as plt\n",
    "import pandas as pd"
   ]
  },
  {
   "cell_type": "code",
   "execution_count": 2,
   "id": "bf28af26",
   "metadata": {},
   "outputs": [],
   "source": [
    "dataset = pd.read_csv('og_dataset.csv')\n",
    "X = dataset.iloc[:, :-1].values\n",
    "y = dataset.iloc[:, -1].values"
   ]
  },
  {
   "cell_type": "code",
   "execution_count": 4,
   "id": "439afcd6",
   "metadata": {},
   "outputs": [
    {
     "name": "stdout",
     "output_type": "stream",
     "text": [
      "[[39.03 38.66 39.03 ... 39.03 39.03 39.03]\n",
      " [39.41 39.41 39.41 ... 39.41 39.78 39.78]\n",
      " [39.78 39.78 39.78 ... 40.15 40.15 40.15]\n",
      " ...\n",
      " [72.63 72.89 72.63 ... 72.63 72.63 72.63]\n",
      " [72.63 72.63 72.63 ... 72.63 72.63 72.63]\n",
      " [72.63 72.63 72.63 ... 72.89 72.89 72.89]]\n"
     ]
    }
   ],
   "source": [
    "print(X)"
   ]
  },
  {
   "cell_type": "code",
   "execution_count": 5,
   "id": "6589db1c",
   "metadata": {},
   "outputs": [
    {
     "name": "stdout",
     "output_type": "stream",
     "text": [
      "4474\n"
     ]
    }
   ],
   "source": [
    "print(len(dataset))"
   ]
  },
  {
   "cell_type": "code",
   "execution_count": 7,
   "id": "0d4b68cd",
   "metadata": {},
   "outputs": [
    {
     "name": "stdout",
     "output_type": "stream",
     "text": [
      "1337\n"
     ]
    }
   ],
   "source": [
    "dataset = dataset.drop_duplicates()\n",
    "print(len(dataset))"
   ]
  },
  {
   "cell_type": "code",
   "execution_count": 8,
   "id": "83189286",
   "metadata": {},
   "outputs": [],
   "source": [
    "dataset.to_csv('data.csv')"
   ]
  },
  {
   "cell_type": "code",
   "execution_count": null,
   "id": "d815c11a",
   "metadata": {},
   "outputs": [],
   "source": []
  }
 ],
 "metadata": {
  "kernelspec": {
   "display_name": "Python 3 (ipykernel)",
   "language": "python",
   "name": "python3"
  },
  "language_info": {
   "codemirror_mode": {
    "name": "ipython",
    "version": 3
   },
   "file_extension": ".py",
   "mimetype": "text/x-python",
   "name": "python",
   "nbconvert_exporter": "python",
   "pygments_lexer": "ipython3",
   "version": "3.9.7"
  }
 },
 "nbformat": 4,
 "nbformat_minor": 5
}
